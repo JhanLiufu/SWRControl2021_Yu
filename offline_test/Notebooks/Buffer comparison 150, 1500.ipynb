{
 "cells": [
  {
   "cell_type": "code",
   "execution_count": 1,
   "id": "3b7c9618",
   "metadata": {},
   "outputs": [],
   "source": [
    "import Ipynb_importer"
   ]
  },
  {
   "cell_type": "code",
   "execution_count": 5,
   "id": "fb55b087",
   "metadata": {},
   "outputs": [],
   "source": [
    "import TrodesReader\n",
    "# import from https://bitbucket.org/mkarlsso/trodes/src/master/ or pip install trodesnetwork\n",
    "from collections import deque\n",
    "import numpy as np\n",
    "import math\n",
    "from scipy import signal\n",
    "import matplotlib.pyplot as plt\n",
    "from pprint import pprint"
   ]
  },
  {
   "cell_type": "code",
   "execution_count": 6,
   "id": "9e614fbc",
   "metadata": {},
   "outputs": [],
   "source": [
    "def bandpass_filter(filter_name, flattened_array, sampling_freq, order, lowcut, highcut):\n",
    "    if filter_name == 'elliptical':\n",
    "        sos = signal.ellip(order, 0.01, 120, [lowcut, highcut], btype='bp', output='sos', fs=sampling_freq)\n",
    "    if filter_name == 'butterworth':\n",
    "        sos = signal.butter(order, [lowcut, highcut], 'bp', fs=sampling_freq, output='sos')\n",
    "    if filter_name == 'cheby1':\n",
    "        sos = signal.cheby1(order, 1, [lowcut, highcut], 'bp', fs=sampling_freq, output='sos')\n",
    "    if filter_name == 'cheby2':\n",
    "        sos = signal.cheby2(order, 15, [lowcut, highcut], 'bp', fs=sampling_freq, output='sos')\n",
    "\n",
    "    y = signal.sosfiltfilt(sos, flattened_array)\n",
    "\n",
    "    return y\n",
    "\n",
    "\n",
    "def calculate_rms(buffer):\n",
    "    square_summed = 0\n",
    "    for k in buffer:\n",
    "        square_summed += (k ** 2)\n",
    "\n",
    "    return math.sqrt(square_summed / len(buffer))\n",
    "\n",
    "\n",
    "def filter_then_rms(buffer, low_cut, high_cut, threshold):\n",
    "    filtered_buffer = bandpass_filter('butterworth', buffer, lfp_sampling_rate, 1, low_cut, high_cut)\n",
    "    current_rms = calculate_rms(filtered_buffer)\n",
    "    return current_rms >= threshold"
   ]
  },
  {
   "cell_type": "code",
   "execution_count": 7,
   "id": "25a5b65b",
   "metadata": {},
   "outputs": [],
   "source": [
    "# this is the 40 min data : 20211207_E1_124311 \n",
    "# nTrode used: 28\n",
    "data_path = 'D:\\\\Recordings\\\\20211207_E1_124311.LFP\\\\20211207_E1_124311.LFP_nt28ch1.dat'\n",
    "time_path = 'D:\\\\Recordings\\\\20211207_E1_124311.LFP\\\\20211207_E1_124311.timestamps.dat'"
   ]
  },
  {
   "cell_type": "code",
   "execution_count": 8,
   "id": "cae0e19b",
   "metadata": {},
   "outputs": [
    {
     "name": "stderr",
     "output_type": "stream",
     "text": [
      "<string>:69: FutureWarning: Passing (type, 1) or '1type' as a synonym of type is deprecated; in a future version of numpy, it will be understood as (type, (1,)) / '(1,)type'.\n"
     ]
    }
   ],
   "source": [
    "data = TrodesReader.readTrodesExtractedDataFile(data_path)\n",
    "#pprint(data)"
   ]
  },
  {
   "cell_type": "code",
   "execution_count": 9,
   "id": "442ee3f0",
   "metadata": {},
   "outputs": [],
   "source": [
    "time = TrodesReader.readTrodesExtractedDataFile(time_path)\n",
    "#pprint(time)"
   ]
  },
  {
   "cell_type": "code",
   "execution_count": 10,
   "id": "32b7b746",
   "metadata": {},
   "outputs": [],
   "source": [
    "start_time = int(time['first_timestamp'])\n",
    "time_data = []\n",
    "for i in time['data']:\n",
    "    time_data.append((i[0]-start_time)/30000)"
   ]
  },
  {
   "cell_type": "code",
   "execution_count": 11,
   "id": "d1524835",
   "metadata": {},
   "outputs": [],
   "source": [
    "lfp_sampling_rate = 1500\n",
    "lfp_sampling_period = (1/lfp_sampling_rate)*(10**9)\n",
    "\n",
    "sw_lower = 5\n",
    "sw_upper = 15\n",
    "ripple_lower = 150\n",
    "ripple_upper = 250\n",
    "num_std = 4"
   ]
  },
  {
   "cell_type": "code",
   "execution_count": 12,
   "id": "cfbb018d",
   "metadata": {},
   "outputs": [],
   "source": [
    "all_data = data['data']\n",
    "lfp_data = []\n",
    "for i in all_data:\n",
    "    lfp_data.append(i[0])\n",
    "\n",
    "ripple_lfp_data = bandpass_filter('butterworth', lfp_data, lfp_sampling_rate, 1, ripple_lower, ripple_upper)\n",
    "sw_lfp_data = bandpass_filter('butterworth', lfp_data, lfp_sampling_rate, 1, sw_lower, sw_upper)"
   ]
  },
  {
   "cell_type": "code",
   "execution_count": 13,
   "id": "fa072ca6",
   "metadata": {},
   "outputs": [],
   "source": [
    "offline_rms1500 = []\n",
    "offline_time1500 = []\n",
    "offlineripple1500 = []\n",
    "rawlfp1500 = []\n",
    "rawlfp = []\n",
    "for i in range(2360000, 2782000):\n",
    "    raw_buffer = lfp_data[i-1500:i]\n",
    "    current_buffer = ripple_lfp_data[i-1500:i]\n",
    "    current_rms = calculate_rms(current_buffer)\n",
    "    if(current_rms<=300):\n",
    "        offline_rms1500.append(current_rms)\n",
    "        offline_time1500.append(time_data[i])\n",
    "        offlineripple1500.append(current_buffer)\n",
    "        rawlfp1500.append(raw_buffer)"
   ]
  },
  {
   "cell_type": "code",
   "execution_count": 14,
   "id": "b67071a9",
   "metadata": {},
   "outputs": [],
   "source": [
    "online_rms1500 = []\n",
    "online_time1500 = []\n",
    "onlineripple1500 = []\n",
    "online_raw1500 = []\n",
    "for i in range(2360000, 2782000):\n",
    "    online_raw = lfp_data[i-1500:i]\n",
    "    current_buffer = lfp_data[i-1500:i]\n",
    "    current_filtered = bandpass_filter('butterworth', current_buffer, lfp_sampling_rate, 1, ripple_lower, ripple_upper)\n",
    "    current_rms = calculate_rms(current_filtered)\n",
    "    if(current_rms<=300):\n",
    "        online_rms1500.append(current_rms)\n",
    "        online_time1500.append(time_data[i])\n",
    "        onlineripple1500.append(current_filtered)\n",
    "        online_raw1500.append(online_raw)"
   ]
  },
  {
   "cell_type": "code",
   "execution_count": 15,
   "id": "05ab9cfb",
   "metadata": {},
   "outputs": [],
   "source": [
    "online_rms150 = []\n",
    "online_time150 = []\n",
    "onlineripple150 = []\n",
    "online_raw150 = []\n",
    "for i in range(2360000, 2782000):\n",
    "    online_raw = lfp_data[i-150:i]\n",
    "    current_buffer = lfp_data[i-150:i]\n",
    "    current_filtered = bandpass_filter('butterworth', current_buffer, lfp_sampling_rate, 1, ripple_lower, ripple_upper)\n",
    "    current_rms = calculate_rms(current_filtered)\n",
    "    if(current_rms<=300):\n",
    "        online_rms150.append(current_rms)\n",
    "        online_time150.append(time_data[i])\n",
    "        onlineripple150.append(current_filtered)\n",
    "        online_raw150.append(online_raw)"
   ]
  },
  {
   "cell_type": "code",
   "execution_count": 16,
   "id": "d3c54d78",
   "metadata": {},
   "outputs": [],
   "source": [
    "offline_rms500 = []\n",
    "offline_time500 = []\n",
    "offlineripple500 = []\n",
    "rawlfp500 = []\n",
    "for i in range(2360000, 2782000):\n",
    "    raw_buffer = lfp_data[i-500:i]\n",
    "    current_buffer = ripple_lfp_data[i-500:i]\n",
    "    current_rms = calculate_rms(current_buffer)\n",
    "    if(current_rms<=300):\n",
    "        offline_rms500.append(current_rms)\n",
    "        offline_time500.append(time_data[i])\n",
    "        offlineripple500.append(current_buffer)\n",
    "        rawlfp500.append(raw_buffer)"
   ]
  },
  {
   "cell_type": "code",
   "execution_count": 17,
   "id": "9c01fa31",
   "metadata": {},
   "outputs": [],
   "source": [
    "offline_rms150 = []\n",
    "offline_time150 = []\n",
    "offlineripple150 = []\n",
    "rawlfp150 = []\n",
    "for i in range(2360000, 2782000):\n",
    "    raw_buffer = lfp_data[i-150:i]\n",
    "    current_buffer = ripple_lfp_data[i-150:i]\n",
    "    current_rms = calculate_rms(current_buffer)\n",
    "    if(current_rms<=300):\n",
    "        offline_rms150.append(current_rms)\n",
    "        offline_time150.append(time_data[i])\n",
    "        offlineripple150.append(current_buffer)\n",
    "        rawlfp150.append(raw_buffer)"
   ]
  },
  {
   "cell_type": "code",
   "execution_count": 18,
   "id": "4c900838",
   "metadata": {},
   "outputs": [],
   "source": [
    "offline_rms50 = []\n",
    "offline_time50 = []\n",
    "offlineripple50 = []\n",
    "rawlfp50 = []\n",
    "for i in range(2360000, 2782000):\n",
    "    raw_buffer = lfp_data[i-50:i]\n",
    "    current_buffer = ripple_lfp_data[i-50:i]\n",
    "    current_rms = calculate_rms(current_buffer)\n",
    "    if(current_rms<=300):\n",
    "        offline_rms50.append(current_rms)\n",
    "        offline_time50.append(time_data[i])\n",
    "        offlineripple50.append(current_buffer)\n",
    "        rawlfp50.append(raw_buffer)"
   ]
  },
  {
   "cell_type": "code",
   "execution_count": 19,
   "id": "e7152a34",
   "metadata": {},
   "outputs": [
    {
     "name": "stdout",
     "output_type": "stream",
     "text": [
      "422000 422000 422000 422000\n"
     ]
    }
   ],
   "source": [
    "print(len(rawlfp1500),len(offlineripple1500),len(offline_time1500),len(offline_rms1500))"
   ]
  },
  {
   "cell_type": "code",
   "execution_count": 21,
   "id": "2e216bbd",
   "metadata": {},
   "outputs": [
    {
     "name": "stdout",
     "output_type": "stream",
     "text": [
      "40.86503579392547\n",
      "15.808725003898884\n",
      "104.09993580952101\n"
     ]
    }
   ],
   "source": [
    "avg_online1500 = np.mean(online_rms1500)\n",
    "std_online1500 = np.std(online_rms1500)\n",
    "threshold_online1500 = avg_online1500 + num_std*std_online1500\n",
    "print(avg_online1500)\n",
    "print(std_online1500)\n",
    "print(threshold_online1500)"
   ]
  },
  {
   "cell_type": "code",
   "execution_count": 23,
   "id": "d90f946d",
   "metadata": {},
   "outputs": [
    {
     "name": "stdout",
     "output_type": "stream",
     "text": [
      "35.2554257213291\n",
      "25.413080950314328\n",
      "136.9077495225864\n"
     ]
    }
   ],
   "source": [
    "avg_online150 = np.mean(online_rms150)\n",
    "std_online150 = np.std(online_rms150)\n",
    "threshold_online150 = avg_online150 + num_std*std_online150\n",
    "print(avg_online150)\n",
    "print(std_online150)\n",
    "print(threshold_online150)"
   ]
  },
  {
   "cell_type": "code",
   "execution_count": 24,
   "id": "0f965f98",
   "metadata": {},
   "outputs": [
    {
     "name": "stdout",
     "output_type": "stream",
     "text": [
      "40.904296376630604\n",
      "15.814812509954299\n",
      "104.1635464164478\n"
     ]
    }
   ],
   "source": [
    "avg_offline1500 = np.mean(offline_rms1500)\n",
    "std_offline1500 = np.std(offline_rms1500)\n",
    "threshold_offline1500 = avg_offline1500 + num_std*std_offline1500\n",
    "print(avg_offline1500)\n",
    "print(std_offline1500)\n",
    "print(threshold_offline1500)"
   ]
  },
  {
   "cell_type": "code",
   "execution_count": 25,
   "id": "4e44429d",
   "metadata": {},
   "outputs": [
    {
     "name": "stdout",
     "output_type": "stream",
     "text": [
      "35.60290432183957\n",
      "25.597201471035877\n",
      "137.99171020598308\n"
     ]
    }
   ],
   "source": [
    "avg_offline150 = np.mean(offline_rms150)\n",
    "std_offline150 = np.std(offline_rms150)\n",
    "threshold_offline150 = avg_offline150 + num_std*std_offline150\n",
    "print(avg_offline150)\n",
    "print(std_offline150)\n",
    "print(threshold_offline150)"
   ]
  },
  {
   "cell_type": "code",
   "execution_count": 26,
   "id": "fdc5dec2",
   "metadata": {},
   "outputs": [
    {
     "name": "stdout",
     "output_type": "stream",
     "text": [
      "38.50472570783204\n",
      "20.98254687098591\n",
      "122.43491319177568\n"
     ]
    }
   ],
   "source": [
    "avg_offline500 = np.mean(offline_rms500)\n",
    "std_offline500 = np.std(offline_rms500)\n",
    "threshold_offline500 = avg_offline500 + num_std*std_offline500\n",
    "print(avg_offline500)\n",
    "print(std_offline500)\n",
    "print(threshold_offline500)"
   ]
  },
  {
   "cell_type": "code",
   "execution_count": 27,
   "id": "0e6cefb4",
   "metadata": {},
   "outputs": [
    {
     "name": "stdout",
     "output_type": "stream",
     "text": [
      "33.136112696094706\n",
      "27.270797936685348\n",
      "142.2193044428361\n"
     ]
    }
   ],
   "source": [
    "avg_offline50 = np.mean(offline_rms50)\n",
    "std_offline50 = np.std(offline_rms50)\n",
    "threshold_offline50 = avg_offline50 + num_std*std_offline50\n",
    "print(avg_offline50)\n",
    "print(std_offline50)\n",
    "print(threshold_offline50)"
   ]
  },
  {
   "cell_type": "code",
   "execution_count": 28,
   "id": "6324a6e9",
   "metadata": {},
   "outputs": [],
   "source": [
    "zscore_online150 = []\n",
    "\n",
    "for i in range(0,len(online_rms150)):\n",
    "    zscore_online150.append((online_rms150[i]-avg_online150)/std_online150)\n",
    "    \n",
    "zscore_online1500 = []\n",
    "\n",
    "for i in range(0,len(online_rms1500)):\n",
    "    zscore_online1500.append((online_rms1500[i]-avg_online1500)/std_online1500)"
   ]
  },
  {
   "cell_type": "code",
   "execution_count": 29,
   "id": "e52f5494",
   "metadata": {},
   "outputs": [],
   "source": [
    "zscore_offline1500 = []\n",
    "zscore_offline500 = []\n",
    "zscore_offline150 = []\n",
    "zscore_offline50 = []\n",
    "\n",
    "for i in range(0,len(offline_rms1500)):\n",
    "    zscore_offline1500.append((offline_rms1500[i]-avg_offline1500)/std_offline1500)\n",
    "    \n",
    "for i in range(0,len(offline_rms500)):\n",
    "    zscore_offline500.append((offline_rms500[i]-avg_offline500)/std_offline500)\n",
    "    \n",
    "for i in range(0,len(offline_rms150)):\n",
    "    zscore_offline150.append((offline_rms150[i]-avg_offline150)/std_offline150)\n",
    "    \n",
    "for i in range(0,len(offline_rms50)):\n",
    "    zscore_offline50.append((offline_rms1500[i]-avg_offline50)/std_offline50)"
   ]
  },
  {
   "cell_type": "code",
   "execution_count": 30,
   "id": "58072084",
   "metadata": {},
   "outputs": [
    {
     "name": "stdout",
     "output_type": "stream",
     "text": [
      "422000 422000\n"
     ]
    }
   ],
   "source": [
    "print(len(zscore_offline1500),len(offline_time1500))"
   ]
  },
  {
   "cell_type": "code",
   "execution_count": 31,
   "id": "5f4436ec",
   "metadata": {},
   "outputs": [],
   "source": [
    "online_decision150 = [False, False]\n",
    "online_stimulation150 = []\n",
    "\n",
    "for i in range(0,len(online_rms150)):\n",
    "    online_decision150.append(online_rms150[i]>threshold_online150)\n",
    "    current_stimulation150 = True\n",
    "    for m in range(len(online_decision150)-3,len(online_decision150)):\n",
    "        if not online_decision150[m]:\n",
    "            current_stimulation150 = False\n",
    "    online_stimulation150.append(current_stimulation150)  \n",
    "\n",
    "online_decision1500 = [False, False]\n",
    "online_stimulation1500 = []\n",
    "\n",
    "for i in range(0,len(online_rms1500)):\n",
    "    online_decision1500.append(online_rms1500[i]>threshold_online1500)\n",
    "    current_stimulation1500 = True\n",
    "    for m in range(len(online_decision1500)-3,len(online_decision1500)):\n",
    "        if not online_decision1500[m]:\n",
    "            current_stimulation1500 = False\n",
    "    online_stimulation1500.append(current_stimulation1500)  "
   ]
  },
  {
   "cell_type": "code",
   "execution_count": 32,
   "id": "76c0accb",
   "metadata": {},
   "outputs": [],
   "source": [
    "offline_decision1500 = [False, False]\n",
    "offline_stimulation1500 = []\n",
    "\n",
    "for i in range(0,len(offline_rms1500)):\n",
    "    offline_decision1500.append(offline_rms1500[i]>threshold_offline1500)\n",
    "    current_stimulation1500 = True\n",
    "    for m in range(len(offline_decision1500)-3,len(offline_decision1500)):\n",
    "        if not offline_decision1500[m]:\n",
    "            current_stimulation1500 = False\n",
    "    offline_stimulation1500.append(current_stimulation1500) \n",
    "    \n",
    "offline_decision500 = [False, False]\n",
    "offline_stimulation500 = []\n",
    "\n",
    "for i in range(0,len(offline_rms500)):\n",
    "    offline_decision500.append(offline_rms500[i]>threshold_offline500)\n",
    "    current_stimulation500 = True\n",
    "    for m in range(len(offline_decision500)-3,len(offline_decision500)):\n",
    "        if not offline_decision500[m]:\n",
    "            current_stimulation500 = False\n",
    "    offline_stimulation500.append(current_stimulation500) \n",
    "    \n",
    "offline_decision150 = [False, False]\n",
    "offline_stimulation150 = []\n",
    "\n",
    "for i in range(0,len(offline_rms150)):\n",
    "    offline_decision150.append(offline_rms150[i]>threshold_offline150)\n",
    "    current_stimulation150 = True\n",
    "    for m in range(len(offline_decision150)-3,len(offline_decision150)):\n",
    "        if not offline_decision150[m]:\n",
    "            current_stimulation150 = False\n",
    "    offline_stimulation150.append(current_stimulation150) \n",
    "\n",
    "offline_decision50 = [False, False]\n",
    "offline_stimulation50 = []\n",
    "\n",
    "for i in range(0,len(offline_rms50)):\n",
    "    offline_decision50.append(offline_rms50[i]>threshold_offline50)\n",
    "    current_stimulation50 = True\n",
    "    for m in range(len(offline_decision50)-3,len(offline_decision50)):\n",
    "        if not offline_decision50[m]:\n",
    "            current_stimulation50 = False\n",
    "    offline_stimulation50.append(current_stimulation50) "
   ]
  },
  {
   "cell_type": "code",
   "execution_count": 33,
   "id": "17f04b76",
   "metadata": {},
   "outputs": [],
   "source": [
    "# offline_stimulation50arr = np.array(offline_stimulation50)\n",
    "# plt.figure()\n",
    "# plt.plot(offline_time50,offline_rms50)\n",
    "# plt.plot(offline_time50,rawlfp50)\n",
    "# #plt.plot(offline_time,offline_stimulation50arr*300,color='green')\n",
    "# plt.plot(offline_time50,offline_stimulation50arr*300,color='r')\n",
    "# plt.show()"
   ]
  },
  {
   "cell_type": "code",
   "execution_count": 34,
   "id": "3a0f931b",
   "metadata": {},
   "outputs": [],
   "source": [
    "# print(sum(offline_stimulation50),sum(offline_stimulation150))\n",
    "# offline_stimulation50arr = np.array(offline_stimulation50)\n",
    "# offline_stimulation150arr = np.array(offline_stimulation150)"
   ]
  },
  {
   "cell_type": "code",
   "execution_count": 35,
   "id": "1b782ba2",
   "metadata": {},
   "outputs": [],
   "source": [
    "# %matplotlib notebook\n",
    "\n",
    "# plt.figure()\n",
    "# plt.plot(offline_time50,rawlfp50)\n",
    "# #plt.plot(offline_time,offline_stimulation50arr*300,color='green')\n",
    "# plt.plot(offline_time500,rawlfp500,color='r')\n",
    "# plt.show()"
   ]
  },
  {
   "cell_type": "code",
   "execution_count": 36,
   "id": "33c43a4a",
   "metadata": {},
   "outputs": [],
   "source": [
    "# plt.figure()\n",
    "# plt.plot(zscore_offline50)\n",
    "# # plt.plot(zscore_offline150)\n",
    "# # plt.plot(zscore_offline500,color='green')\n",
    "# # plt.plot(zscore_offline1500,color='k',alpha=0.3)\n",
    "# plt.show()"
   ]
  },
  {
   "cell_type": "code",
   "execution_count": 37,
   "id": "8c311a35",
   "metadata": {},
   "outputs": [
    {
     "name": "stdout",
     "output_type": "stream",
     "text": [
      "5315 5277 2310 560\n"
     ]
    }
   ],
   "source": [
    "print(sum(offline_stimulation50),sum(offline_stimulation150),sum(offline_stimulation500),sum(offline_stimulation1500))"
   ]
  },
  {
   "cell_type": "code",
   "execution_count": 38,
   "id": "a9f51d9c",
   "metadata": {},
   "outputs": [],
   "source": [
    "# print(len(rawlfp50),len(rawlfp500))"
   ]
  },
  {
   "cell_type": "code",
   "execution_count": 39,
   "id": "5427bd2b",
   "metadata": {},
   "outputs": [],
   "source": [
    "# plt.figure()\n",
    "# # plt.plot(offline_rms1500,color='k')\n",
    "# # plt.plot(offline_rms500,color='r')\n",
    "# plt.plot(offline_rms150,color='green')\n",
    "# plt.plot(offline_rms50)\n",
    "# plt.show()"
   ]
  },
  {
   "cell_type": "code",
   "execution_count": 40,
   "id": "0c736c0c",
   "metadata": {},
   "outputs": [
    {
     "data": {
      "text/plain": [
       "(551, 421440, 0, 9)"
      ]
     },
     "execution_count": 40,
     "metadata": {},
     "output_type": "execute_result"
    }
   ],
   "source": [
    "TP = 0\n",
    "FP = 0\n",
    "TN = 0\n",
    "FN = 0\n",
    "for i in range(len(offline_stimulation1500)):\n",
    "    if offline_stimulation1500[i] == True and online_stimulation1500[i] == True:\n",
    "        TP += 1\n",
    "    if offline_stimulation1500[i] == False and online_stimulation1500[i] == False:\n",
    "        TN += 1    \n",
    "    if offline_stimulation1500[i] == False and online_stimulation1500[i] == True:\n",
    "        FP += 1\n",
    "    if offline_stimulation1500[i] == True and online_stimulation1500[i] == False:\n",
    "        FN += 1\n",
    "TP,TN,FP,FN    "
   ]
  },
  {
   "cell_type": "code",
   "execution_count": 42,
   "id": "10105eb0",
   "metadata": {},
   "outputs": [
    {
     "name": "stdout",
     "output_type": "stream",
     "text": [
      "A: 99.9978672985782\n",
      "P: 100.0\n",
      "R: 98.39285714285714\n"
     ]
    }
   ],
   "source": [
    "Accuracy1500 = ((TP+TN)/(TP+TN+FP+FN))*100\n",
    "print(\"A:\",Accuracy1500)\n",
    "Precision1500 = TP/(TP+FP) *100\n",
    "print(\"P:\",Precision1500)\n",
    "Recall1500 = (TP/(TP+FN))*100\n",
    "print(\"R:\",Recall1500)"
   ]
  },
  {
   "cell_type": "code",
   "execution_count": 43,
   "id": "b08717bb",
   "metadata": {},
   "outputs": [
    {
     "data": {
      "text/plain": [
       "(5032, 416667, 56, 245)"
      ]
     },
     "execution_count": 43,
     "metadata": {},
     "output_type": "execute_result"
    }
   ],
   "source": [
    "TP = 0\n",
    "FP = 0\n",
    "TN = 0\n",
    "FN = 0\n",
    "for i in range(len(offline_stimulation150)):\n",
    "    if offline_stimulation150[i] == True and online_stimulation150[i] == True:\n",
    "        TP += 1\n",
    "    if offline_stimulation150[i] == False and online_stimulation150[i] == False:\n",
    "        TN += 1    \n",
    "    if offline_stimulation150[i] == False and online_stimulation150[i] == True:\n",
    "        FP += 1\n",
    "    if offline_stimulation150[i] == True and online_stimulation150[i] == False:\n",
    "        FN += 1\n",
    "TP,TN,FP,FN    "
   ]
  },
  {
   "cell_type": "code",
   "execution_count": 44,
   "id": "c99c124b",
   "metadata": {},
   "outputs": [
    {
     "name": "stdout",
     "output_type": "stream",
     "text": [
      "A: 99.92867298578199\n",
      "P: 98.89937106918238\n",
      "R: 95.35721053628956\n"
     ]
    }
   ],
   "source": [
    "Accuracy150 = ((TP+TN)/(TP+TN+FP+FN))*100\n",
    "print(\"A:\",Accuracy150)\n",
    "Precision150 = TP/(TP+FP) *100\n",
    "print(\"P:\",Precision150)\n",
    "Recall150 = (TP/(TP+FN))*100\n",
    "print(\"R:\",Recall150)"
   ]
  },
  {
   "cell_type": "code",
   "execution_count": 45,
   "id": "0e05dca7",
   "metadata": {},
   "outputs": [],
   "source": [
    "Labels=['Accuracy1500','Accuracy150','Precision1500','Precision150','Recall1500','Recall150']\n",
    "Values=[Accuracy1500,Accuracy150, Precision1500,Precision150, Recall1500, Recall150]\n"
   ]
  },
  {
   "cell_type": "code",
   "execution_count": 46,
   "id": "0edef070",
   "metadata": {},
   "outputs": [
    {
     "data": {
      "image/png": "[encoded data removed]",
      "text/plain": [
       "<Figure size 432x288 with 1 Axes>"
      ]
     },
     "metadata": {
      "needs_background": "light"
     },
     "output_type": "display_data"
    }
   ],
   "source": [
    "plt.figure()\n",
    "plt.bar(Labels,Values)\n",
    "plt.show()"
   ]
  },
  {
   "cell_type": "code",
   "execution_count": null,
   "id": "edba019b",
   "metadata": {},
   "outputs": [],
   "source": []
  }
 ],
 "metadata": {
  "kernelspec": {
   "display_name": "CLC",
   "language": "python",
   "name": "clc"
  },
  "language_info": {
   "codemirror_mode": {
    "name": "ipython",
    "version": 3
   },
   "file_extension": ".py",
   "mimetype": "text/x-python",
   "name": "python",
   "nbconvert_exporter": "python",
   "pygments_lexer": "ipython3",
   "version": "3.9.9"
  }
 },
 "nbformat": 4,
 "nbformat_minor": 5
}
